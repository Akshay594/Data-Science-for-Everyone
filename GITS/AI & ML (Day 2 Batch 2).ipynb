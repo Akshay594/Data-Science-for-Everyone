{
 "cells": [
  {
   "cell_type": "code",
   "execution_count": 11,
   "metadata": {},
   "outputs": [],
   "source": [
    "import numpy as np\n",
    "\n",
    "\n",
    "X = 3 * np.random.rand(100, 1)\n",
    "y = 6 * X + 4 + np.random.randn(100, 1)"
   ]
  },
  {
   "cell_type": "code",
   "execution_count": 12,
   "metadata": {},
   "outputs": [],
   "source": [
    "import matplotlib.pyplot as plt"
   ]
  },
  {
   "cell_type": "code",
   "execution_count": 13,
   "metadata": {},
   "outputs": [
    {
     "data": {
      "text/plain": [
       "[<matplotlib.lines.Line2D at 0x7f33440c49b0>]"
      ]
     },
     "execution_count": 13,
     "metadata": {},
     "output_type": "execute_result"
    },
    {
     "data": {
      "image/png": "[encoded data removed]",
      "text/plain": [
       "<Figure size 432x288 with 1 Axes>"
      ]
     },
     "metadata": {
      "needs_background": "light"
     },
     "output_type": "display_data"
    }
   ],
   "source": [
    "plt.plot(X, y, \"b.\")"
   ]
  },
  {
   "cell_type": "code",
   "execution_count": 5,
   "metadata": {},
   "outputs": [],
   "source": [
    "arr = [1, 2, 3]"
   ]
  },
  {
   "cell_type": "code",
   "execution_count": 6,
   "metadata": {},
   "outputs": [],
   "source": [
    "l = [i*2 for i in arr]"
   ]
  },
  {
   "cell_type": "code",
   "execution_count": 7,
   "metadata": {},
   "outputs": [
    {
     "data": {
      "text/plain": [
       "[2, 4, 6]"
      ]
     },
     "execution_count": 7,
     "metadata": {},
     "output_type": "execute_result"
    }
   ],
   "source": [
    "l"
   ]
  },
  {
   "cell_type": "code",
   "execution_count": 8,
   "metadata": {},
   "outputs": [],
   "source": [
    "num_arr = np.array(arr)"
   ]
  },
  {
   "cell_type": "code",
   "execution_count": 9,
   "metadata": {},
   "outputs": [
    {
     "data": {
      "text/plain": [
       "array([1, 2, 3])"
      ]
     },
     "execution_count": 9,
     "metadata": {},
     "output_type": "execute_result"
    }
   ],
   "source": [
    "num_arr"
   ]
  },
  {
   "cell_type": "code",
   "execution_count": 10,
   "metadata": {},
   "outputs": [
    {
     "data": {
      "text/plain": [
       "array([2, 4, 6])"
      ]
     },
     "execution_count": 10,
     "metadata": {},
     "output_type": "execute_result"
    }
   ],
   "source": [
    "num_arr*2"
   ]
  },
  {
   "cell_type": "code",
   "execution_count": 14,
   "metadata": {},
   "outputs": [],
   "source": [
    "from sklearn.linear_model import LinearRegression"
   ]
  },
  {
   "cell_type": "code",
   "execution_count": 15,
   "metadata": {},
   "outputs": [],
   "source": [
    "reg = LinearRegression()"
   ]
  },
  {
   "cell_type": "code",
   "execution_count": 16,
   "metadata": {},
   "outputs": [
    {
     "data": {
      "text/plain": [
       "LinearRegression(copy_X=True, fit_intercept=True, n_jobs=None, normalize=False)"
      ]
     },
     "execution_count": 16,
     "metadata": {},
     "output_type": "execute_result"
    }
   ],
   "source": [
    "reg.fit(X, y)"
   ]
  },
  {
   "cell_type": "code",
   "execution_count": 17,
   "metadata": {},
   "outputs": [
    {
     "data": {
      "text/plain": [
       "array([[5.89403521]])"
      ]
     },
     "execution_count": 17,
     "metadata": {},
     "output_type": "execute_result"
    }
   ],
   "source": [
    "reg.coef_"
   ]
  },
  {
   "cell_type": "code",
   "execution_count": 18,
   "metadata": {},
   "outputs": [
    {
     "data": {
      "text/plain": [
       "array([4.14475898])"
      ]
     },
     "execution_count": 18,
     "metadata": {},
     "output_type": "execute_result"
    }
   ],
   "source": [
    "reg.intercept_"
   ]
  },
  {
   "cell_type": "code",
   "execution_count": 19,
   "metadata": {},
   "outputs": [],
   "source": [
    "X_new = np.array([[0], [2]])\n",
    "\n",
    "y_pred = reg.predict(X_new)"
   ]
  },
  {
   "cell_type": "code",
   "execution_count": 20,
   "metadata": {},
   "outputs": [
    {
     "data": {
      "text/plain": [
       "array([[ 4.14475898],\n",
       "       [15.93282939]])"
      ]
     },
     "execution_count": 20,
     "metadata": {},
     "output_type": "execute_result"
    }
   ],
   "source": [
    "y_pred"
   ]
  },
  {
   "cell_type": "code",
   "execution_count": 24,
   "metadata": {},
   "outputs": [
    {
     "data": {
      "image/png": "[encoded data removed]",
      "text/plain": [
       "<Figure size 432x288 with 1 Axes>"
      ]
     },
     "metadata": {
      "needs_background": "light"
     },
     "output_type": "display_data"
    }
   ],
   "source": [
    "plt.plot(X, y, \"b.\")\n",
    "plt.plot(X_new, y_pred, \"r-\", label=\"prediction line\")\n",
    "plt.legend(loc=\"best\")\n",
    "plt.show()"
   ]
  },
  {
   "cell_type": "code",
   "execution_count": 25,
   "metadata": {},
   "outputs": [
    {
     "data": {
      "text/plain": [
       "0.9575890460082839"
      ]
     },
     "execution_count": 25,
     "metadata": {},
     "output_type": "execute_result"
    }
   ],
   "source": [
    "reg.score(X, y)"
   ]
  },
  {
   "cell_type": "markdown",
   "metadata": {},
   "source": [
    "## Under the hood"
   ]
  },
  {
   "cell_type": "code",
   "execution_count": 27,
   "metadata": {},
   "outputs": [],
   "source": [
    "bias = np.ones((100, 1))\n",
    "X_with_bias = np.c_[X, bias]"
   ]
  },
  {
   "cell_type": "code",
   "execution_count": 30,
   "metadata": {},
   "outputs": [
    {
     "data": {
      "text/plain": [
       "array([[0.71463478, 1.        ],\n",
       "       [1.56819397, 1.        ],\n",
       "       [1.78542997, 1.        ],\n",
       "       [2.34380046, 1.        ],\n",
       "       [1.20229123, 1.        ],\n",
       "       [2.12123858, 1.        ],\n",
       "       [0.78763718, 1.        ],\n",
       "       [2.59293595, 1.        ],\n",
       "       [2.3589419 , 1.        ],\n",
       "       [2.9567207 , 1.        ],\n",
       "       [1.95528974, 1.        ],\n",
       "       [2.32095288, 1.        ],\n",
       "       [2.22069995, 1.        ],\n",
       "       [2.02438174, 1.        ],\n",
       "       [1.81990773, 1.        ],\n",
       "       [1.2342971 , 1.        ],\n",
       "       [1.06365921, 1.        ],\n",
       "       [2.57097254, 1.        ],\n",
       "       [2.77092587, 1.        ],\n",
       "       [0.31574075, 1.        ],\n",
       "       [1.19184261, 1.        ],\n",
       "       [0.83908809, 1.        ],\n",
       "       [1.6245125 , 1.        ],\n",
       "       [2.00944962, 1.        ],\n",
       "       [0.51943898, 1.        ],\n",
       "       [2.3698065 , 1.        ],\n",
       "       [1.76781896, 1.        ],\n",
       "       [0.01850032, 1.        ],\n",
       "       [1.21466723, 1.        ],\n",
       "       [1.93849103, 1.        ],\n",
       "       [1.30469911, 1.        ],\n",
       "       [0.02452978, 1.        ],\n",
       "       [2.92529889, 1.        ],\n",
       "       [1.51156537, 1.        ],\n",
       "       [2.40082701, 1.        ],\n",
       "       [2.04356599, 1.        ],\n",
       "       [1.48512811, 1.        ],\n",
       "       [1.81766715, 1.        ],\n",
       "       [2.81679159, 1.        ],\n",
       "       [2.3176012 , 1.        ],\n",
       "       [0.68169434, 1.        ],\n",
       "       [0.99417819, 1.        ],\n",
       "       [2.30097413, 1.        ],\n",
       "       [1.97490096, 1.        ],\n",
       "       [0.22074078, 1.        ],\n",
       "       [2.65855506, 1.        ],\n",
       "       [0.47146497, 1.        ],\n",
       "       [2.2316496 , 1.        ],\n",
       "       [0.96950298, 1.        ],\n",
       "       [0.13116254, 1.        ],\n",
       "       [2.34522624, 1.        ],\n",
       "       [2.01348594, 1.        ],\n",
       "       [0.85709283, 1.        ],\n",
       "       [0.44565723, 1.        ],\n",
       "       [2.33400345, 1.        ],\n",
       "       [1.24672008, 1.        ],\n",
       "       [2.04706778, 1.        ],\n",
       "       [2.89971621, 1.        ],\n",
       "       [0.85404589, 1.        ],\n",
       "       [0.67980626, 1.        ],\n",
       "       [1.53918824, 1.        ],\n",
       "       [1.73643607, 1.        ],\n",
       "       [1.14874518, 1.        ],\n",
       "       [2.71539475, 1.        ],\n",
       "       [1.56592271, 1.        ],\n",
       "       [0.11661925, 1.        ],\n",
       "       [2.64045495, 1.        ],\n",
       "       [0.56097993, 1.        ],\n",
       "       [2.62300634, 1.        ],\n",
       "       [2.8168082 , 1.        ],\n",
       "       [1.60950553, 1.        ],\n",
       "       [2.45026034, 1.        ],\n",
       "       [1.30067572, 1.        ],\n",
       "       [1.04868235, 1.        ],\n",
       "       [1.90182206, 1.        ],\n",
       "       [1.29067965, 1.        ],\n",
       "       [2.57066342, 1.        ],\n",
       "       [0.56847937, 1.        ],\n",
       "       [0.05119453, 1.        ],\n",
       "       [0.05207725, 1.        ],\n",
       "       [2.14586216, 1.        ],\n",
       "       [2.67397396, 1.        ],\n",
       "       [0.2205305 , 1.        ],\n",
       "       [2.47289837, 1.        ],\n",
       "       [0.95839346, 1.        ],\n",
       "       [1.23653242, 1.        ],\n",
       "       [2.14646466, 1.        ],\n",
       "       [2.36409393, 1.        ],\n",
       "       [2.85786496, 1.        ],\n",
       "       [0.03931968, 1.        ],\n",
       "       [1.35751561, 1.        ],\n",
       "       [1.85159626, 1.        ],\n",
       "       [2.42700962, 1.        ],\n",
       "       [1.22346003, 1.        ],\n",
       "       [1.90111272, 1.        ],\n",
       "       [2.82646507, 1.        ],\n",
       "       [1.54874317, 1.        ],\n",
       "       [1.20272405, 1.        ],\n",
       "       [0.68047814, 1.        ],\n",
       "       [0.60399321, 1.        ]])"
      ]
     },
     "execution_count": 30,
     "metadata": {},
     "output_type": "execute_result"
    }
   ],
   "source": [
    "X_with_bias"
   ]
  },
  {
   "cell_type": "markdown",
   "metadata": {},
   "source": [
    "(X.T.X)^-1.X.T.y"
   ]
  },
  {
   "cell_type": "code",
   "execution_count": 28,
   "metadata": {},
   "outputs": [],
   "source": [
    "theta_best = np.linalg.inv(X_with_bias.T.dot(X_with_bias)).dot(X_with_bias.T.dot(y))"
   ]
  },
  {
   "cell_type": "code",
   "execution_count": 29,
   "metadata": {},
   "outputs": [
    {
     "data": {
      "text/plain": [
       "array([[5.89403521],\n",
       "       [4.14475898]])"
      ]
     },
     "execution_count": 29,
     "metadata": {},
     "output_type": "execute_result"
    }
   ],
   "source": [
    "theta_best"
   ]
  },
  {
   "cell_type": "code",
   "execution_count": 31,
   "metadata": {},
   "outputs": [],
   "source": [
    "coeff = theta_best[0]\n",
    "intercept = theta_best[1]"
   ]
  },
  {
   "cell_type": "code",
   "execution_count": 33,
   "metadata": {},
   "outputs": [
    {
     "data": {
      "text/plain": [
       "array([[0.71463478, 1.        ],\n",
       "       [1.56819397, 1.        ],\n",
       "       [1.78542997, 1.        ],\n",
       "       [2.34380046, 1.        ],\n",
       "       [1.20229123, 1.        ],\n",
       "       [2.12123858, 1.        ],\n",
       "       [0.78763718, 1.        ],\n",
       "       [2.59293595, 1.        ],\n",
       "       [2.3589419 , 1.        ],\n",
       "       [2.9567207 , 1.        ],\n",
       "       [1.95528974, 1.        ],\n",
       "       [2.32095288, 1.        ],\n",
       "       [2.22069995, 1.        ],\n",
       "       [2.02438174, 1.        ],\n",
       "       [1.81990773, 1.        ],\n",
       "       [1.2342971 , 1.        ],\n",
       "       [1.06365921, 1.        ],\n",
       "       [2.57097254, 1.        ],\n",
       "       [2.77092587, 1.        ],\n",
       "       [0.31574075, 1.        ],\n",
       "       [1.19184261, 1.        ],\n",
       "       [0.83908809, 1.        ],\n",
       "       [1.6245125 , 1.        ],\n",
       "       [2.00944962, 1.        ],\n",
       "       [0.51943898, 1.        ],\n",
       "       [2.3698065 , 1.        ],\n",
       "       [1.76781896, 1.        ],\n",
       "       [0.01850032, 1.        ],\n",
       "       [1.21466723, 1.        ],\n",
       "       [1.93849103, 1.        ],\n",
       "       [1.30469911, 1.        ],\n",
       "       [0.02452978, 1.        ],\n",
       "       [2.92529889, 1.        ],\n",
       "       [1.51156537, 1.        ],\n",
       "       [2.40082701, 1.        ],\n",
       "       [2.04356599, 1.        ],\n",
       "       [1.48512811, 1.        ],\n",
       "       [1.81766715, 1.        ],\n",
       "       [2.81679159, 1.        ],\n",
       "       [2.3176012 , 1.        ],\n",
       "       [0.68169434, 1.        ],\n",
       "       [0.99417819, 1.        ],\n",
       "       [2.30097413, 1.        ],\n",
       "       [1.97490096, 1.        ],\n",
       "       [0.22074078, 1.        ],\n",
       "       [2.65855506, 1.        ],\n",
       "       [0.47146497, 1.        ],\n",
       "       [2.2316496 , 1.        ],\n",
       "       [0.96950298, 1.        ],\n",
       "       [0.13116254, 1.        ],\n",
       "       [2.34522624, 1.        ],\n",
       "       [2.01348594, 1.        ],\n",
       "       [0.85709283, 1.        ],\n",
       "       [0.44565723, 1.        ],\n",
       "       [2.33400345, 1.        ],\n",
       "       [1.24672008, 1.        ],\n",
       "       [2.04706778, 1.        ],\n",
       "       [2.89971621, 1.        ],\n",
       "       [0.85404589, 1.        ],\n",
       "       [0.67980626, 1.        ],\n",
       "       [1.53918824, 1.        ],\n",
       "       [1.73643607, 1.        ],\n",
       "       [1.14874518, 1.        ],\n",
       "       [2.71539475, 1.        ],\n",
       "       [1.56592271, 1.        ],\n",
       "       [0.11661925, 1.        ],\n",
       "       [2.64045495, 1.        ],\n",
       "       [0.56097993, 1.        ],\n",
       "       [2.62300634, 1.        ],\n",
       "       [2.8168082 , 1.        ],\n",
       "       [1.60950553, 1.        ],\n",
       "       [2.45026034, 1.        ],\n",
       "       [1.30067572, 1.        ],\n",
       "       [1.04868235, 1.        ],\n",
       "       [1.90182206, 1.        ],\n",
       "       [1.29067965, 1.        ],\n",
       "       [2.57066342, 1.        ],\n",
       "       [0.56847937, 1.        ],\n",
       "       [0.05119453, 1.        ],\n",
       "       [0.05207725, 1.        ],\n",
       "       [2.14586216, 1.        ],\n",
       "       [2.67397396, 1.        ],\n",
       "       [0.2205305 , 1.        ],\n",
       "       [2.47289837, 1.        ],\n",
       "       [0.95839346, 1.        ],\n",
       "       [1.23653242, 1.        ],\n",
       "       [2.14646466, 1.        ],\n",
       "       [2.36409393, 1.        ],\n",
       "       [2.85786496, 1.        ],\n",
       "       [0.03931968, 1.        ],\n",
       "       [1.35751561, 1.        ],\n",
       "       [1.85159626, 1.        ],\n",
       "       [2.42700962, 1.        ],\n",
       "       [1.22346003, 1.        ],\n",
       "       [1.90111272, 1.        ],\n",
       "       [2.82646507, 1.        ],\n",
       "       [1.54874317, 1.        ],\n",
       "       [1.20272405, 1.        ],\n",
       "       [0.68047814, 1.        ],\n",
       "       [0.60399321, 1.        ]])"
      ]
     },
     "execution_count": 33,
     "metadata": {},
     "output_type": "execute_result"
    }
   ],
   "source": [
    "X_with_bias"
   ]
  },
  {
   "cell_type": "code",
   "execution_count": 34,
   "metadata": {},
   "outputs": [],
   "source": [
    "X_new = np.array([[0], [2]])"
   ]
  },
  {
   "cell_type": "code",
   "execution_count": 35,
   "metadata": {},
   "outputs": [],
   "source": [
    "X_new_with_bias = np.c_[X_new, np.ones((2, 1))]"
   ]
  },
  {
   "cell_type": "code",
   "execution_count": 36,
   "metadata": {},
   "outputs": [
    {
     "data": {
      "text/plain": [
       "array([[ 4.14475898],\n",
       "       [15.93282939]])"
      ]
     },
     "execution_count": 36,
     "metadata": {},
     "output_type": "execute_result"
    }
   ],
   "source": [
    "X_new_with_bias.dot(theta_best)"
   ]
  },
  {
   "cell_type": "markdown",
   "metadata": {},
   "source": [
    "## Machine Learning Pipeline"
   ]
  },
  {
   "cell_type": "code",
   "execution_count": 64,
   "metadata": {},
   "outputs": [],
   "source": [
    "from sklearn.datasets import load_diabetes"
   ]
  },
  {
   "cell_type": "code",
   "execution_count": 65,
   "metadata": {},
   "outputs": [],
   "source": [
    "diabetes = load_diabetes()"
   ]
  },
  {
   "cell_type": "code",
   "execution_count": 66,
   "metadata": {},
   "outputs": [],
   "source": [
    "X = diabetes.data\n",
    "y = diabetes.target"
   ]
  },
  {
   "cell_type": "code",
   "execution_count": 67,
   "metadata": {},
   "outputs": [],
   "source": [
    "from sklearn.model_selection import train_test_split\n",
    "\n",
    "X_train, X_test, y_train, y_test = train_test_split(X, y, test_size=0.2)"
   ]
  },
  {
   "cell_type": "code",
   "execution_count": 68,
   "metadata": {},
   "outputs": [],
   "source": [
    "reg = LinearRegression()"
   ]
  },
  {
   "cell_type": "code",
   "execution_count": 69,
   "metadata": {},
   "outputs": [
    {
     "data": {
      "text/plain": [
       "LinearRegression(copy_X=True, fit_intercept=True, n_jobs=None, normalize=False)"
      ]
     },
     "execution_count": 69,
     "metadata": {},
     "output_type": "execute_result"
    }
   ],
   "source": [
    "reg.fit(X_train, y_train)"
   ]
  },
  {
   "cell_type": "code",
   "execution_count": 70,
   "metadata": {},
   "outputs": [],
   "source": [
    "preds = reg.predict(X_test)"
   ]
  },
  {
   "cell_type": "code",
   "execution_count": 74,
   "metadata": {},
   "outputs": [
    {
     "data": {
      "text/plain": [
       "'.. _diabetes_dataset:\\n\\nDiabetes dataset\\n----------------\\n\\nTen baseline variables, age, sex, body mass index, average blood\\npressure, and six blood serum measurements were obtained for each of n =\\n442 diabetes patients, as well as the response of interest, a\\nquantitative measure of disease progression one year after baseline.\\n\\n**Data Set Characteristics:**\\n\\n  :Number of Instances: 442\\n\\n  :Number of Attributes: First 10 columns are numeric predictive values\\n\\n  :Target: Column 11 is a quantitative measure of disease progression one year after baseline\\n\\n  :Attribute Information:\\n      - Age\\n      - Sex\\n      - Body mass index\\n      - Average blood pressure\\n      - S1\\n      - S2\\n      - S3\\n      - S4\\n      - S5\\n      - S6\\n\\nNote: Each of these 10 feature variables have been mean centered and scaled by the standard deviation times `n_samples` (i.e. the sum of squares of each column totals 1).\\n\\nSource URL:\\nhttps://www4.stat.ncsu.edu/~boos/var.select/diabetes.html\\n\\nFor more information see:\\nBradley Efron, Trevor Hastie, Iain Johnstone and Robert Tibshirani (2004) \"Least Angle Regression,\" Annals of Statistics (with discussion), 407-499.\\n(https://web.stanford.edu/~hastie/Papers/LARS/LeastAngle_2002.pdf)'"
      ]
     },
     "execution_count": 74,
     "metadata": {},
     "output_type": "execute_result"
    }
   ],
   "source": [
    "diabetes.DESCR.rstrip(\"\\n\")"
   ]
  },
  {
   "cell_type": "code",
   "execution_count": 46,
   "metadata": {},
   "outputs": [
    {
     "data": {
      "text/plain": [
       "0.48814774670127437"
      ]
     },
     "execution_count": 46,
     "metadata": {},
     "output_type": "execute_result"
    }
   ],
   "source": [
    "reg.score(X_test, y_test)"
   ]
  },
  {
   "cell_type": "code",
   "execution_count": 57,
   "metadata": {},
   "outputs": [],
   "source": [
    "from sklearn.datasets import load_boston"
   ]
  },
  {
   "cell_type": "code",
   "execution_count": 58,
   "metadata": {},
   "outputs": [],
   "source": [
    "housing = load_boston()\n",
    "\n",
    "X = housing.data\n",
    "y = housing.target"
   ]
  },
  {
   "cell_type": "code",
   "execution_count": 59,
   "metadata": {},
   "outputs": [],
   "source": [
    "X_train, X_test, y_train, y_test = train_test_split(X, y, test_size=0.2)"
   ]
  },
  {
   "cell_type": "code",
   "execution_count": 60,
   "metadata": {},
   "outputs": [],
   "source": [
    "reg = LinearRegression()"
   ]
  },
  {
   "cell_type": "code",
   "execution_count": 61,
   "metadata": {},
   "outputs": [
    {
     "data": {
      "text/plain": [
       "LinearRegression(copy_X=True, fit_intercept=True, n_jobs=None, normalize=False)"
      ]
     },
     "execution_count": 61,
     "metadata": {},
     "output_type": "execute_result"
    }
   ],
   "source": [
    "reg.fit(X_train, y_train)"
   ]
  },
  {
   "cell_type": "code",
   "execution_count": 62,
   "metadata": {},
   "outputs": [
    {
     "data": {
      "text/plain": [
       "array([3.13693510e+01, 2.43632993e+01, 2.48650825e+01, 1.34289937e+01,\n",
       "       3.71691129e+01, 1.61482819e+01, 3.34474868e+01, 2.77046082e+01,\n",
       "       2.33559109e+01, 2.52901893e+01, 3.18115246e+01, 2.10536039e+01,\n",
       "       2.00484924e+01, 3.26669648e+01, 1.66953769e+01, 1.32774406e+01,\n",
       "       1.72829853e+01, 3.10348443e+01, 2.52937655e+01, 2.00722209e+01,\n",
       "       1.47457780e+01, 5.82339437e+00, 2.22474660e+01, 2.20894495e+01,\n",
       "       3.03523746e+01, 2.33870788e+01, 1.54722133e+01, 2.31355224e+01,\n",
       "       1.34591364e+01, 2.98261098e+00, 1.82521202e+01, 1.35142919e+01,\n",
       "       2.95879301e+01, 3.29928233e+01, 3.08942493e+01, 1.68763125e+01,\n",
       "       1.10955959e+01, 2.54146586e+01, 3.08852964e+01, 2.01766628e+01,\n",
       "       2.66331047e+01, 2.51664285e+01, 3.13209123e+01, 7.86221401e+00,\n",
       "       1.94364139e+01, 2.60870786e+01, 2.22578512e+01, 2.25072432e+01,\n",
       "       2.13691093e+01, 1.67872092e+01, 1.85700134e+01, 4.39174884e+01,\n",
       "       1.82201765e+01, 1.48861143e+01, 2.44237243e+01, 2.76930030e+01,\n",
       "       6.41499477e-03, 1.91456656e+01, 2.26754252e+01, 2.16239330e+01,\n",
       "       1.91839117e+01, 1.94868235e+01, 3.57241839e+01, 2.48904935e+01,\n",
       "       2.02861685e+01, 2.16367115e+01, 2.74365176e+01, 1.54583945e+01,\n",
       "       3.51684992e+01, 3.61204207e+01, 3.17711898e+01, 2.40603429e+01,\n",
       "       2.02313554e+01, 4.36199060e+01, 1.69542884e+01, 2.05632857e+01,\n",
       "       2.52843651e+01, 1.58738051e+01, 2.72209460e+01, 8.30124495e+00,\n",
       "       2.92087279e+01, 1.48639966e+01, 2.13206989e+01, 1.62562018e+01,\n",
       "       2.34429229e+01, 1.53646673e+01, 2.50330392e+01, 2.24820812e+01,\n",
       "       2.90297123e+01, 2.73612638e+01, 1.81391796e+01, 2.37925610e+01,\n",
       "       6.70945601e+00, 4.13185629e+01, 2.50360432e+01, 2.51987431e+01,\n",
       "       1.27934376e+01, 1.83581462e+01, 1.62378104e+01, 1.85240368e+01,\n",
       "       3.43928155e+01, 2.68038066e+01])"
      ]
     },
     "execution_count": 62,
     "metadata": {},
     "output_type": "execute_result"
    }
   ],
   "source": [
    "reg.predict(X_test)"
   ]
  },
  {
   "cell_type": "code",
   "execution_count": 76,
   "metadata": {},
   "outputs": [],
   "source": [
    "def ops(a, b, c):\n",
    "    return (a+b)//c"
   ]
  },
  {
   "cell_type": "code",
   "execution_count": 77,
   "metadata": {},
   "outputs": [
    {
     "data": {
      "text/plain": [
       "1"
      ]
     },
     "execution_count": 77,
     "metadata": {},
     "output_type": "execute_result"
    }
   ],
   "source": [
    "ops(1, 2, 3)"
   ]
  },
  {
   "cell_type": "code",
   "execution_count": null,
   "metadata": {},
   "outputs": [],
   "source": [
    "y_dash = 5.89 * X + 4.14"
   ]
  }
 ],
 "metadata": {
  "kernelspec": {
   "display_name": "Python 3",
   "language": "python",
   "name": "python3"
  },
  "language_info": {
   "codemirror_mode": {
    "name": "ipython",
    "version": 3
   },
   "file_extension": ".py",
   "mimetype": "text/x-python",
   "name": "python",
   "nbconvert_exporter": "python",
   "pygments_lexer": "ipython3",
   "version": "3.6.9"
  }
 },
 "nbformat": 4,
 "nbformat_minor": 4
}
