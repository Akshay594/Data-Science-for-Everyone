{
  "nbformat": 4,
  "nbformat_minor": 0,
  "metadata": {
    "colab": {
      "name": "Python.ipynb",
      "provenance": []
    },
    "kernelspec": {
      "name": "python3",
      "display_name": "Python 3"
    }
  },
  "cells": [
    {
      "cell_type": "markdown",
      "metadata": {
        "id": "2FAIgqfIQpoJ",
        "colab_type": "text"
      },
      "source": [
        "## Python Intro"
      ]
    },
    {
      "cell_type": "markdown",
      "metadata": {
        "id": "-VPYSDAJU78X",
        "colab_type": "text"
      },
      "source": [
        "## Data Types"
      ]
    },
    {
      "cell_type": "markdown",
      "metadata": {
        "id": "289brDhiU-dr",
        "colab_type": "text"
      },
      "source": [
        "1. int\n",
        "2. float\n",
        "3. str\n",
        "4. bool\n",
        "5. bin\n",
        "6. oct\n",
        "7. hex"
      ]
    },
    {
      "cell_type": "code",
      "metadata": {
        "id": "22f4AwWFUrxP",
        "colab_type": "code",
        "colab": {
          "base_uri": "https://localhost:8080/",
          "height": 34
        },
        "outputId": "a78f6e1f-d110-4926-f138-f726a050445b"
      },
      "source": [
        "print(\"Hello\")"
      ],
      "execution_count": 36,
      "outputs": [
        {
          "output_type": "stream",
          "text": [
            "Hello\n"
          ],
          "name": "stdout"
        }
      ]
    },
    {
      "cell_type": "code",
      "metadata": {
        "id": "Sgk7EfiyVk5F",
        "colab_type": "code",
        "colab": {
          "base_uri": "https://localhost:8080/",
          "height": 34
        },
        "outputId": "071bbdfb-0db2-429f-d00f-81533f781850"
      },
      "source": [
        "print(2)"
      ],
      "execution_count": 37,
      "outputs": [
        {
          "output_type": "stream",
          "text": [
            "2\n"
          ],
          "name": "stdout"
        }
      ]
    },
    {
      "cell_type": "code",
      "metadata": {
        "id": "88Le13EgVmgP",
        "colab_type": "code",
        "colab": {
          "base_uri": "https://localhost:8080/",
          "height": 34
        },
        "outputId": "6633c6ab-b50e-4401-f358-c1e4846dd862"
      },
      "source": [
        "print(True)"
      ],
      "execution_count": 38,
      "outputs": [
        {
          "output_type": "stream",
          "text": [
            "True\n"
          ],
          "name": "stdout"
        }
      ]
    },
    {
      "cell_type": "code",
      "metadata": {
        "id": "ya5ehU6-VoIk",
        "colab_type": "code",
        "colab": {
          "base_uri": "https://localhost:8080/",
          "height": 34
        },
        "outputId": "d073a354-d52b-4225-8c35-ed87ac99d678"
      },
      "source": [
        "print(4.2)"
      ],
      "execution_count": 39,
      "outputs": [
        {
          "output_type": "stream",
          "text": [
            "4.2\n"
          ],
          "name": "stdout"
        }
      ]
    },
    {
      "cell_type": "code",
      "metadata": {
        "id": "mttml4UdVqIx",
        "colab_type": "code",
        "colab": {
          "base_uri": "https://localhost:8080/",
          "height": 34
        },
        "outputId": "c93ce665-4c03-4e99-bd7c-2fe19fc76aac"
      },
      "source": [
        "oct(2)"
      ],
      "execution_count": 43,
      "outputs": [
        {
          "output_type": "execute_result",
          "data": {
            "text/plain": [
              "'0o2'"
            ]
          },
          "metadata": {
            "tags": []
          },
          "execution_count": 43
        }
      ]
    },
    {
      "cell_type": "code",
      "metadata": {
        "id": "ajyVxcueVwUR",
        "colab_type": "code",
        "colab": {
          "base_uri": "https://localhost:8080/",
          "height": 34
        },
        "outputId": "d394474c-5907-443e-c7bd-0708154088bb"
      },
      "source": [
        "bin(5)"
      ],
      "execution_count": 45,
      "outputs": [
        {
          "output_type": "execute_result",
          "data": {
            "text/plain": [
              "'0b101'"
            ]
          },
          "metadata": {
            "tags": []
          },
          "execution_count": 45
        }
      ]
    },
    {
      "cell_type": "code",
      "metadata": {
        "id": "me5_S8yLWJUg",
        "colab_type": "code",
        "colab": {
          "base_uri": "https://localhost:8080/",
          "height": 34
        },
        "outputId": "c216dd1c-fb7e-44e7-bdf3-4692d317e982"
      },
      "source": [
        "bin(31)"
      ],
      "execution_count": 46,
      "outputs": [
        {
          "output_type": "execute_result",
          "data": {
            "text/plain": [
              "'0b11111'"
            ]
          },
          "metadata": {
            "tags": []
          },
          "execution_count": 46
        }
      ]
    },
    {
      "cell_type": "markdown",
      "metadata": {
        "id": "qmigBe49Wfiw",
        "colab_type": "text"
      },
      "source": [
        "## Variable Assigment"
      ]
    },
    {
      "cell_type": "code",
      "metadata": {
        "id": "tqNH-dF1WSHi",
        "colab_type": "code",
        "colab": {
          "base_uri": "https://localhost:8080/",
          "height": 34
        },
        "outputId": "6558f4bc-0219-479f-a7d8-501fd3cf34b4"
      },
      "source": [
        "a = 2\n",
        "print(a)"
      ],
      "execution_count": 47,
      "outputs": [
        {
          "output_type": "stream",
          "text": [
            "2\n"
          ],
          "name": "stdout"
        }
      ]
    },
    {
      "cell_type": "code",
      "metadata": {
        "id": "c_oeGMJIW03a",
        "colab_type": "code",
        "colab": {
          "base_uri": "https://localhost:8080/",
          "height": 34
        },
        "outputId": "3649fb14-2c01-4bfd-f203-a6328403c0bb"
      },
      "source": [
        "b = \"Hello\"\n",
        "print(b)"
      ],
      "execution_count": 48,
      "outputs": [
        {
          "output_type": "stream",
          "text": [
            "Hello\n"
          ],
          "name": "stdout"
        }
      ]
    },
    {
      "cell_type": "code",
      "metadata": {
        "id": "TXxT6n8LXBHz",
        "colab_type": "code",
        "colab": {
          "base_uri": "https://localhost:8080/",
          "height": 34
        },
        "outputId": "b9c825df-3b3a-4dfa-d294-c4557636c9fb"
      },
      "source": [
        "print(a, b)"
      ],
      "execution_count": 49,
      "outputs": [
        {
          "output_type": "stream",
          "text": [
            "2 Hello\n"
          ],
          "name": "stdout"
        }
      ]
    },
    {
      "cell_type": "code",
      "metadata": {
        "id": "eeFEdPK9XEXk",
        "colab_type": "code",
        "colab": {
          "base_uri": "https://localhost:8080/",
          "height": 34
        },
        "outputId": "a4772cb7-6e8d-4c7a-e855-38f90f618ecf"
      },
      "source": [
        "c = 10\n",
        "d = 11\n",
        "print(a, b, c, d, sep=\"@\")"
      ],
      "execution_count": 53,
      "outputs": [
        {
          "output_type": "stream",
          "text": [
            "2@Hello@10@11\n"
          ],
          "name": "stdout"
        }
      ]
    },
    {
      "cell_type": "code",
      "metadata": {
        "id": "dGL166iTX2Pi",
        "colab_type": "code",
        "colab": {
          "base_uri": "https://localhost:8080/",
          "height": 34
        },
        "outputId": "248265b2-f55b-4f4c-dd66-ad28d49ae924"
      },
      "source": [
        "string = str(\"My name is Gopal\")\n",
        "print(string)"
      ],
      "execution_count": 58,
      "outputs": [
        {
          "output_type": "stream",
          "text": [
            "My name is Gopal\n"
          ],
          "name": "stdout"
        }
      ]
    },
    {
      "cell_type": "markdown",
      "metadata": {
        "id": "T633NZmjXg0c",
        "colab_type": "text"
      },
      "source": [
        "## Conditional Statements"
      ]
    },
    {
      "cell_type": "code",
      "metadata": {
        "id": "vPjYTugZXIsf",
        "colab_type": "code",
        "colab": {
          "base_uri": "https://localhost:8080/",
          "height": 34
        },
        "outputId": "4f728a18-a7db-4cb5-abeb-56c857761d6f"
      },
      "source": [
        "age = 17\n",
        "\n",
        "if age >= 18:\n",
        "  print(\"You are eligible to cast the vote.\") \n",
        "else:\n",
        "  print(\"You are not eligible.\")"
      ],
      "execution_count": 61,
      "outputs": [
        {
          "output_type": "stream",
          "text": [
            "You are not eligible.\n"
          ],
          "name": "stdout"
        }
      ]
    },
    {
      "cell_type": "code",
      "metadata": {
        "id": "P0DB5vRUYqWc",
        "colab_type": "code",
        "colab": {}
      },
      "source": [
        ""
      ],
      "execution_count": 0,
      "outputs": []
    }
  ]
}