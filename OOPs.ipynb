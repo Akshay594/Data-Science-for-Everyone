{
 "cells": [
  {
   "cell_type": "code",
   "execution_count": 1,
   "metadata": {},
   "outputs": [],
   "source": [
    "class Student:\n",
    "    pass"
   ]
  },
  {
   "cell_type": "code",
   "execution_count": 2,
   "metadata": {},
   "outputs": [],
   "source": [
    "a = Student()"
   ]
  },
  {
   "cell_type": "code",
   "execution_count": 3,
   "metadata": {},
   "outputs": [
    {
     "name": "stdout",
     "output_type": "stream",
     "text": [
      "Gopal Singh 17\n"
     ]
    }
   ],
   "source": [
    "a.name = \"Gopal Singh\"\n",
    "a.rollno = 17\n",
    "\n",
    "print(a.name, a.rollno)"
   ]
  },
  {
   "cell_type": "code",
   "execution_count": 4,
   "metadata": {},
   "outputs": [
    {
     "ename": "AttributeError",
     "evalue": "'Student' object has no attribute 'name'",
     "output_type": "error",
     "traceback": [
      "\u001b[0;31m---------------------------------------------------------------------------\u001b[0m",
      "\u001b[0;31mAttributeError\u001b[0m                            Traceback (most recent call last)",
      "\u001b[0;32m<ipython-input-4-dff1d0762d3d>\u001b[0m in \u001b[0;36m<module>\u001b[0;34m\u001b[0m\n\u001b[1;32m      1\u001b[0m \u001b[0mb\u001b[0m \u001b[0;34m=\u001b[0m \u001b[0mStudent\u001b[0m\u001b[0;34m(\u001b[0m\u001b[0;34m)\u001b[0m\u001b[0;34m\u001b[0m\u001b[0;34m\u001b[0m\u001b[0m\n\u001b[0;32m----> 2\u001b[0;31m \u001b[0mprint\u001b[0m\u001b[0;34m(\u001b[0m\u001b[0mb\u001b[0m\u001b[0;34m.\u001b[0m\u001b[0mname\u001b[0m\u001b[0;34m,\u001b[0m \u001b[0mb\u001b[0m\u001b[0;34m.\u001b[0m\u001b[0mrollno\u001b[0m\u001b[0;34m)\u001b[0m\u001b[0;34m\u001b[0m\u001b[0;34m\u001b[0m\u001b[0m\n\u001b[0m",
      "\u001b[0;31mAttributeError\u001b[0m: 'Student' object has no attribute 'name'"
     ]
    }
   ],
   "source": [
    "b = Student()\n",
    "print(b.name, b.rollno)"
   ]
  },
  {
   "cell_type": "code",
   "execution_count": 5,
   "metadata": {},
   "outputs": [],
   "source": [
    "# self helps in creating a temporary place holder for a class's instance\n",
    "\n",
    "class Student:\n",
    "    def __init__(self, name, rollno):\n",
    "        self.name = name\n",
    "        self.rollno = rollno\n",
    "    "
   ]
  },
  {
   "cell_type": "code",
   "execution_count": 6,
   "metadata": {},
   "outputs": [],
   "source": [
    "a = Student(\"Gopal\", 17)"
   ]
  },
  {
   "cell_type": "code",
   "execution_count": 7,
   "metadata": {},
   "outputs": [
    {
     "data": {
      "text/plain": [
       "'Gopal'"
      ]
     },
     "execution_count": 7,
     "metadata": {},
     "output_type": "execute_result"
    }
   ],
   "source": [
    "a.name"
   ]
  },
  {
   "cell_type": "code",
   "execution_count": 8,
   "metadata": {},
   "outputs": [
    {
     "data": {
      "text/plain": [
       "17"
      ]
     },
     "execution_count": 8,
     "metadata": {},
     "output_type": "execute_result"
    }
   ],
   "source": [
    "a.rollno"
   ]
  },
  {
   "cell_type": "markdown",
   "metadata": {},
   "source": [
    "## Methods in class"
   ]
  },
  {
   "cell_type": "code",
   "execution_count": 11,
   "metadata": {},
   "outputs": [],
   "source": [
    "class Student:\n",
    "    \n",
    "    def __init__(self, name, rollno, std):\n",
    "        self.name = name\n",
    "        self.rollno = rollno\n",
    "        self.std = std\n",
    "    \n",
    "    def show_details(self):\n",
    "        return f\"{self.name} {self.rollno} {self.std}\"\n",
    "\n",
    "std2 = Student(\"Gopal\", 17, 10)"
   ]
  },
  {
   "cell_type": "code",
   "execution_count": 12,
   "metadata": {},
   "outputs": [
    {
     "data": {
      "text/plain": [
       "'Gopal 17 10'"
      ]
     },
     "execution_count": 12,
     "metadata": {},
     "output_type": "execute_result"
    }
   ],
   "source": [
    "std2.show_details()"
   ]
  },
  {
   "cell_type": "code",
   "execution_count": 13,
   "metadata": {},
   "outputs": [
    {
     "data": {
      "text/plain": [
       "<__main__.Student at 0x7fd56761b518>"
      ]
     },
     "execution_count": 13,
     "metadata": {},
     "output_type": "execute_result"
    }
   ],
   "source": [
    "std2"
   ]
  },
  {
   "cell_type": "code",
   "execution_count": 23,
   "metadata": {},
   "outputs": [],
   "source": [
    "class Student:\n",
    "    \n",
    "    def __init__(self, name, rollno, std):\n",
    "        self.name = name\n",
    "        self.rollno = rollno\n",
    "        self.std = std\n",
    "    \n",
    "    def show_details(self):\n",
    "        return f\"{self.name} {self.rollno} {self.std}\"\n",
    "    \n",
    "    # Object representation\n",
    "    def __repr__(self):\n",
    "        return f\"{self.name} {self.rollno} {self.std}\"\n",
    "    \n",
    "    # String Representation\n",
    "    def __str__(self):\n",
    "        return f\"{self.name}\"\n",
    "        \n",
    "        "
   ]
  },
  {
   "cell_type": "markdown",
   "metadata": {},
   "source": [
    "## Task\n",
    "\n",
    "# Write a class for the cars where you will be having two functions \n",
    "\n",
    "# 1. change_gear() ----> change the gear and show in which gear the car is in, options for gear [\"1\", \"2\", \"3\", \"4\"]\n",
    "\n",
    "\n",
    "# 2. accelerate_car() ---> This method will accelerate the car with the given accelration based on follwing conditions\n",
    "\n",
    ". If the car is in gear 1 it's max speed should display like the follwing: \"Reached at max 40Kmph\"\n",
    "\n",
    ". If the car is in gear 2 it's max speed should display like the follwing: \"Reached at max 60Kmph\"\n",
    "\n",
    ". If the car is in gear 3 it's max speed should display like the follwing: \"Reached at max 80Kmph\"\n",
    "\n",
    ". If the car is in gear 4 it's max speed should display like the follwing: \"Reached at max 100Kmph\""
   ]
  },
  {
   "cell_type": "code",
   "execution_count": 26,
   "metadata": {},
   "outputs": [],
   "source": [
    "class Car:\n",
    "\n",
    "    def __init__(self, gear):\n",
    "        self.gear = gear\n",
    "    \n",
    "    \n",
    "    def change_gear(self, value):\n",
    "        self.gear = value\n",
    "    \n",
    "    def accelerate_car(self):\n",
    "        \n",
    "        if self.gear == \"1\":\n",
    "            return f\"Reached at max 40Kmph\"\n",
    "        elif self.gear == \"2\":\n",
    "            return f\"Reached at max 60Kmph\"\n",
    "        elif self.gear == \"3\":\n",
    "            return f\"Reached at max 80Kmph\"\n",
    "        elif self.gear == \"4\":\n",
    "            return f\"Reached at max 100Kmph\"\n",
    "        else:\n",
    "            return f\"Your car is broken.\"\n",
    "    "
   ]
  },
  {
   "cell_type": "code",
   "execution_count": 27,
   "metadata": {},
   "outputs": [],
   "source": [
    "a = Car(\"1\")"
   ]
  },
  {
   "cell_type": "code",
   "execution_count": 28,
   "metadata": {},
   "outputs": [
    {
     "data": {
      "text/plain": [
       "'Reached at max 40Kmph'"
      ]
     },
     "execution_count": 28,
     "metadata": {},
     "output_type": "execute_result"
    }
   ],
   "source": [
    "a.accelerate_car()"
   ]
  },
  {
   "cell_type": "markdown",
   "metadata": {},
   "source": [
    "## Class methods"
   ]
  },
  {
   "cell_type": "code",
   "execution_count": 36,
   "metadata": {},
   "outputs": [],
   "source": [
    "class Student:\n",
    "    \n",
    "    def __init__(self, name, rollno, std):\n",
    "        self.name = name\n",
    "        self.rollno = rollno\n",
    "        self.std = std\n",
    "    \n",
    "    def show_details(self):\n",
    "        return f\"{self.name} {self.rollno} {self.std}\"\n",
    "    \n",
    "    @classmethod\n",
    "    def from_string(cls, string):\n",
    "        values = string.split(\"-\")\n",
    "        return cls(' '.join(values))\n",
    "        \n",
    "    \n",
    "    # Object representation\n",
    "    def __repr__(self):\n",
    "        return f\"{self.name} {self.rollno} {self.std}\"\n",
    "    \n",
    "    # String Representation\n",
    "    def __str__(self):\n",
    "        return f\"{self.name}\"\n",
    "        "
   ]
  },
  {
   "cell_type": "code",
   "execution_count": 30,
   "metadata": {},
   "outputs": [],
   "source": [
    "a = \"Gopal-17-10\""
   ]
  },
  {
   "cell_type": "code",
   "execution_count": 43,
   "metadata": {},
   "outputs": [],
   "source": [
    "class Student:\n",
    "    \n",
    "    def __init__(self, name, rollno, std):\n",
    "        self.name = name\n",
    "        self.rollno = rollno\n",
    "        self.std = std\n",
    "    \n",
    "    def show_details(self):\n",
    "        return f\"{self.name} {self.rollno} {self.std}\"\n",
    "        \n",
    "    \n",
    "    # Object representation\n",
    "    def __repr__(self):\n",
    "        return f\"{self.name} {self.rollno} {self.std}\"\n",
    "    \n",
    "    # String Representation\n",
    "    def __str__(self):\n",
    "        return f\"{self.name}\"\n",
    "    \n",
    "    def __len__(self):\n",
    "        return len(self.name)\n",
    "        "
   ]
  },
  {
   "cell_type": "code",
   "execution_count": 44,
   "metadata": {},
   "outputs": [],
   "source": [
    "a = Student(\"Gopal\", 17, 10)"
   ]
  },
  {
   "cell_type": "code",
   "execution_count": 45,
   "metadata": {},
   "outputs": [
    {
     "data": {
      "text/plain": [
       "5"
      ]
     },
     "execution_count": 45,
     "metadata": {},
     "output_type": "execute_result"
    }
   ],
   "source": [
    "len(a)"
   ]
  },
  {
   "cell_type": "code",
   "execution_count": null,
   "metadata": {},
   "outputs": [],
   "source": []
  }
 ],
 "metadata": {
  "kernelspec": {
   "display_name": "Python 3",
   "language": "python",
   "name": "python3"
  },
  "language_info": {
   "codemirror_mode": {
    "name": "ipython",
    "version": 3
   },
   "file_extension": ".py",
   "mimetype": "text/x-python",
   "name": "python",
   "nbconvert_exporter": "python",
   "pygments_lexer": "ipython3",
   "version": "3.6.9"
  }
 },
 "nbformat": 4,
 "nbformat_minor": 2
}
